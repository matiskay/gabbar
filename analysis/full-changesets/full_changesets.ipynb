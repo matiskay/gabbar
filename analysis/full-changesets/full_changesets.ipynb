{
 "cells": [
  {
   "cell_type": "markdown",
   "metadata": {},
   "source": [
    "# Full changesets"
   ]
  },
  {
   "cell_type": "markdown",
   "metadata": {},
   "source": [
    "## Goals\n",
    "- Come up with a list of taggers that will make the model an effective flagger\n",
    "\n",
    "## Workflow\n",
    "- Download the latest 1000 reviewed changesets from osm full features\n",
    "- Use the 500 (250 harmful and 250 not harmful) as the training set and the other for testing.\n",
    "- For every harmful changeset, understand why it was harmful\n",
    "    - Convert why the changeset was harmful into a feature\n",
    "- Train a model with the feature\n",
    "- Predict label for other 500 changesets\n",
    "\n",
    "## Notes\n",
    "- Try a lot of taggers - 100 or even a 1000\n",
    "- What taggers when used by gabbar has the best performance"
   ]
  },
  {
   "cell_type": "code",
   "execution_count": 1,
   "metadata": {
    "collapsed": true
   },
   "outputs": [],
   "source": [
    "%matplotlib inline\n",
    "%config InlineBackend.figure_format = 'retina'\n",
    "\n",
    "import warnings\n",
    "warnings.filterwarnings(\"ignore\")"
   ]
  },
  {
   "cell_type": "code",
   "execution_count": 2,
   "metadata": {
    "collapsed": true
   },
   "outputs": [],
   "source": [
    "import pandas as pd\n",
    "import numpy as np\n",
    "import matplotlib.pyplot as plt\n",
    "import seaborn as sns; sns.set(style=\"ticks\")"
   ]
  },
  {
   "cell_type": "markdown",
   "metadata": {},
   "source": [
    "# 1. Extract 500 harmful and not harmful changesets"
   ]
  },
  {
   "cell_type": "code",
   "execution_count": 3,
   "metadata": {},
   "outputs": [
    {
     "name": "stdout",
     "output_type": "stream",
     "text": [
      "(59247, 19)\n"
     ]
    },
    {
     "data": {
      "text/html": [
       "<div>\n",
       "<table border=\"1\" class=\"dataframe\">\n",
       "  <thead>\n",
       "    <tr style=\"text-align: right;\">\n",
       "      <th></th>\n",
       "      <th>ID</th>\n",
       "      <th>user</th>\n",
       "      <th>editor</th>\n",
       "      <th>Powerfull Editor</th>\n",
       "      <th>comment</th>\n",
       "      <th>source</th>\n",
       "      <th>imagery used</th>\n",
       "      <th>date</th>\n",
       "      <th>reasons</th>\n",
       "      <th>reasons__name</th>\n",
       "      <th>create</th>\n",
       "      <th>modify</th>\n",
       "      <th>delete</th>\n",
       "      <th>bbox</th>\n",
       "      <th>is suspect</th>\n",
       "      <th>harmful</th>\n",
       "      <th>checked</th>\n",
       "      <th>check_user__username</th>\n",
       "      <th>check date</th>\n",
       "    </tr>\n",
       "  </thead>\n",
       "  <tbody>\n",
       "    <tr>\n",
       "      <th>0</th>\n",
       "      <td>47491144</td>\n",
       "      <td>RichRico</td>\n",
       "      <td>JOSM/1.5 (11639 en)</td>\n",
       "      <td>True</td>\n",
       "      <td>Adding junction nodes or bridges to overlappin...</td>\n",
       "      <td>Bing</td>\n",
       "      <td>Not reported</td>\n",
       "      <td>2017-04-05 22:46:26</td>\n",
       "      <td>NaN</td>\n",
       "      <td>NaN</td>\n",
       "      <td>0.0</td>\n",
       "      <td>1.0</td>\n",
       "      <td>0.0</td>\n",
       "      <td>SRID=4326;POLYGON ((-46.8202964 -23.693203, -4...</td>\n",
       "      <td>False</td>\n",
       "      <td>False</td>\n",
       "      <td>True</td>\n",
       "      <td>calfarome</td>\n",
       "      <td>2017-04-05T23:30:53.776282+00:00</td>\n",
       "    </tr>\n",
       "    <tr>\n",
       "      <th>1</th>\n",
       "      <td>47490912</td>\n",
       "      <td>Birgitta_fi</td>\n",
       "      <td>rosemary v0.4.4</td>\n",
       "      <td>False</td>\n",
       "      <td>Modified via wheelmap.org</td>\n",
       "      <td>Not reported</td>\n",
       "      <td>Not reported</td>\n",
       "      <td>2017-04-05 22:27:45</td>\n",
       "      <td>23.0</td>\n",
       "      <td>Major name modification</td>\n",
       "      <td>5.0</td>\n",
       "      <td>41.0</td>\n",
       "      <td>0.0</td>\n",
       "      <td>SRID=4326;POLYGON ((24.9182827 60.1779368, 24....</td>\n",
       "      <td>False</td>\n",
       "      <td>True</td>\n",
       "      <td>True</td>\n",
       "      <td>yurasi</td>\n",
       "      <td>2017-04-05T23:33:08.813791+00:00</td>\n",
       "    </tr>\n",
       "  </tbody>\n",
       "</table>\n",
       "</div>"
      ],
      "text/plain": [
       "         ID         user               editor Powerfull Editor  \\\n",
       "0  47491144     RichRico  JOSM/1.5 (11639 en)             True   \n",
       "1  47490912  Birgitta_fi      rosemary v0.4.4            False   \n",
       "\n",
       "                                             comment        source  \\\n",
       "0  Adding junction nodes or bridges to overlappin...          Bing   \n",
       "1                          Modified via wheelmap.org  Not reported   \n",
       "\n",
       "   imagery used                date  reasons            reasons__name  create  \\\n",
       "0  Not reported 2017-04-05 22:46:26      NaN                      NaN     0.0   \n",
       "1  Not reported 2017-04-05 22:27:45     23.0  Major name modification     5.0   \n",
       "\n",
       "   modify  delete                                               bbox  \\\n",
       "0     1.0     0.0  SRID=4326;POLYGON ((-46.8202964 -23.693203, -4...   \n",
       "1    41.0     0.0  SRID=4326;POLYGON ((24.9182827 60.1779368, 24....   \n",
       "\n",
       "  is suspect harmful checked check_user__username  \\\n",
       "0      False   False    True            calfarome   \n",
       "1      False    True    True               yurasi   \n",
       "\n",
       "                         check date  \n",
       "0  2017-04-05T23:30:53.776282+00:00  \n",
       "1  2017-04-05T23:33:08.813791+00:00  "
      ]
     },
     "execution_count": 3,
     "metadata": {},
     "output_type": "execute_result"
    }
   ],
   "source": [
    "changesets = pd.read_csv('changesets.csv')\n",
    "\n",
    "# Changesets come up multiple times when they have multiple labels.\n",
    "changesets = changesets.drop_duplicates('ID')\n",
    "\n",
    "# Convert date from a string to a datetime object.\n",
    "changesets['date'] = pd.to_datetime(changesets['date'])\n",
    "\n",
    "print(changesets.shape)\n",
    "changesets.head(2)"
   ]
  },
  {
   "cell_type": "code",
   "execution_count": 4,
   "metadata": {
    "collapsed": true
   },
   "outputs": [],
   "source": [
    "# Sort changesets by id with the lateset first.\n",
    "changesets = changesets.sort('ID', ascending=False)"
   ]
  },
  {
   "cell_type": "code",
   "execution_count": 5,
   "metadata": {},
   "outputs": [
    {
     "name": "stdout",
     "output_type": "stream",
     "text": [
      "Number of harmful changesets: 5691\n"
     ]
    }
   ],
   "source": [
    "harmful_changesets = changesets[changesets['harmful'] == True]\n",
    "print('Number of harmful changesets: {}'.format(harmful_changesets.shape[0]))\n",
    "\n",
    "# Write some recent harmful changeset IDs to a file.\n",
    "harmful_changesets = harmful_changesets[:500]"
   ]
  },
  {
   "cell_type": "code",
   "execution_count": 6,
   "metadata": {},
   "outputs": [
    {
     "name": "stdout",
     "output_type": "stream",
     "text": [
      "Number of not harmful changesets: 53556\n"
     ]
    }
   ],
   "source": [
    "not_harmful_changesets = changesets[changesets['harmful'] == False]\n",
    "print('Number of not harmful changesets: {}'.format(not_harmful_changesets.shape[0]))\n",
    "\n",
    "# Write some recent not harmful changeset IDs to a file.\n",
    "not_harmful_changesets = not_harmful_changesets[:500]"
   ]
  },
  {
   "cell_type": "code",
   "execution_count": 7,
   "metadata": {},
   "outputs": [
    {
     "name": "stdout",
     "output_type": "stream",
     "text": [
      "head: ../data/full-changests/full-changeset-ids.csv: No such file or directory\r\n"
     ]
    }
   ],
   "source": [
    "merged_changesets = pd.concat([harmful_changesets, not_harmful_changesets])\n",
    "merged_changesets[['ID', 'harmful']].to_csv('full-changeset-ids.csv', index=False)\n",
    "\n",
    "!head -n5 ../data/full-changests/full-changeset-ids.csv"
   ]
  },
  {
   "cell_type": "markdown",
   "metadata": {},
   "source": [
    "# 2. Download full changesets\n",
    "- Ref: https://github.com/mapbox/osm-adiff-parser"
   ]
  },
  {
   "cell_type": "markdown",
   "metadata": {},
   "source": [
    "# 3. ML on changesets with features"
   ]
  },
  {
   "cell_type": "code",
   "execution_count": 8,
   "metadata": {},
   "outputs": [
    {
     "name": "stdout",
     "output_type": "stream",
     "text": [
      "(949, 5)\n"
     ]
    },
    {
     "data": {
      "text/html": [
       "<div>\n",
       "<table border=\"1\" class=\"dataframe\">\n",
       "  <thead>\n",
       "    <tr style=\"text-align: right;\">\n",
       "      <th></th>\n",
       "      <th>changeset_id</th>\n",
       "      <th>harmful</th>\n",
       "      <th>features_created</th>\n",
       "      <th>features_modified</th>\n",
       "      <th>features_deleted</th>\n",
       "    </tr>\n",
       "  </thead>\n",
       "  <tbody>\n",
       "    <tr>\n",
       "      <th>47</th>\n",
       "      <td>47425982</td>\n",
       "      <td>True</td>\n",
       "      <td>0</td>\n",
       "      <td>1</td>\n",
       "      <td>0</td>\n",
       "    </tr>\n",
       "    <tr>\n",
       "      <th>652</th>\n",
       "      <td>47469780</td>\n",
       "      <td>False</td>\n",
       "      <td>517</td>\n",
       "      <td>76</td>\n",
       "      <td>30</td>\n",
       "    </tr>\n",
       "    <tr>\n",
       "      <th>882</th>\n",
       "      <td>47459620</td>\n",
       "      <td>False</td>\n",
       "      <td>0</td>\n",
       "      <td>1</td>\n",
       "      <td>0</td>\n",
       "    </tr>\n",
       "    <tr>\n",
       "      <th>97</th>\n",
       "      <td>47378219</td>\n",
       "      <td>True</td>\n",
       "      <td>5</td>\n",
       "      <td>0</td>\n",
       "      <td>0</td>\n",
       "    </tr>\n",
       "    <tr>\n",
       "      <th>444</th>\n",
       "      <td>46724899</td>\n",
       "      <td>True</td>\n",
       "      <td>5</td>\n",
       "      <td>0</td>\n",
       "      <td>0</td>\n",
       "    </tr>\n",
       "  </tbody>\n",
       "</table>\n",
       "</div>"
      ],
      "text/plain": [
       "     changeset_id harmful  features_created  features_modified  \\\n",
       "47       47425982    True                 0                  1   \n",
       "652      47469780   False               517                 76   \n",
       "882      47459620   False                 0                  1   \n",
       "97       47378219    True                 5                  0   \n",
       "444      46724899    True                 5                  0   \n",
       "\n",
       "     features_deleted  \n",
       "47                  0  \n",
       "652                30  \n",
       "882                 0  \n",
       "97                  0  \n",
       "444                 0  "
      ]
     },
     "execution_count": 8,
     "metadata": {},
     "output_type": "execute_result"
    }
   ],
   "source": [
    "changesets = pd.read_csv('changesets-with-features.csv')\n",
    "print(changesets.shape)\n",
    "changesets.sample(5)"
   ]
  },
  {
   "cell_type": "code",
   "execution_count": 9,
   "metadata": {},
   "outputs": [
    {
     "name": "stdout",
     "output_type": "stream",
     "text": [
      "Changesets harmful: (470, 5)\n",
      "Changesets harmful: (479, 5)\n"
     ]
    }
   ],
   "source": [
    "harmful_changesets = changesets[changesets['harmful'] == True]\n",
    "print('Changesets harmful: {}'.format(harmful_changesets.shape))\n",
    "\n",
    "\n",
    "not_harmful_changesets = changesets[changesets['harmful'] == False]\n",
    "print('Changesets harmful: {}'.format(not_harmful_changesets.shape))"
   ]
  },
  {
   "cell_type": "code",
   "execution_count": 10,
   "metadata": {},
   "outputs": [
    {
     "name": "stdout",
     "output_type": "stream",
     "text": [
      "Training samples: 711\n",
      "Testing samples: 238\n"
     ]
    },
    {
     "name": "stderr",
     "output_type": "stream",
     "text": [
      "/Users/bkowshik/anaconda/lib/python3.5/site-packages/sklearn/cross_validation.py:44: DeprecationWarning: This module was deprecated in version 0.18 in favor of the model_selection module into which all the refactored classes and functions are moved. Also note that the interface of the new CV iterators are different from that of this module. This module will be removed in 0.20.\n",
      "  \"This module will be removed in 0.20.\", DeprecationWarning)\n"
     ]
    }
   ],
   "source": [
    "from sklearn.cross_validation import train_test_split\n",
    "\n",
    "# Feature matrix.\n",
    "X = changesets.drop(['changeset_id', 'harmful'], axis=1)\n",
    "\n",
    "# Target array.\n",
    "y = changesets['harmful']\n",
    "\n",
    "Xtrain, Xtest, ytrain, ytest = train_test_split(X, y, random_state=42)\n",
    "print('Training samples: {}'.format(Xtrain.shape[0]))\n",
    "print('Testing samples: {}'.format(Xtest.shape[0]))"
   ]
  },
  {
   "cell_type": "code",
   "execution_count": 11,
   "metadata": {},
   "outputs": [],
   "source": [
    "from sklearn.naive_bayes import GaussianNB\n",
    "model = GaussianNB()\n",
    "model.fit(Xtrain, ytrain);\n",
    "\n",
    "# Get predictions.\n",
    "ymodel = model.predict(Xtest)"
   ]
  },
  {
   "cell_type": "code",
   "execution_count": 12,
   "metadata": {},
   "outputs": [
    {
     "name": "stdout",
     "output_type": "stream",
     "text": [
      "             precision    recall  f1-score   support\n",
      "\n",
      "      False       0.80      0.20      0.32       122\n",
      "       True       0.53      0.95      0.68       116\n",
      "\n",
      "avg / total       0.67      0.56      0.49       238\n",
      "\n"
     ]
    }
   ],
   "source": [
    "from sklearn.metrics import classification_report\n",
    "print(classification_report(ytest, ymodel))"
   ]
  },
  {
   "cell_type": "code",
   "execution_count": 13,
   "metadata": {},
   "outputs": [
    {
     "data": {
      "text/plain": [
       "0.46686695708777731"
      ]
     },
     "execution_count": 13,
     "metadata": {},
     "output_type": "execute_result"
    }
   ],
   "source": [
    "# Evaluate a score by cross-validation.\n",
    "from sklearn.cross_validation import cross_val_score\n",
    "scores = cross_val_score(model, X, y, cv=3)\n",
    "np.mean(scores)"
   ]
  },
  {
   "cell_type": "code",
   "execution_count": 14,
   "metadata": {},
   "outputs": [
    {
     "name": "stderr",
     "output_type": "stream",
     "text": [
      "/Users/bkowshik/anaconda/lib/python3.5/site-packages/sklearn/learning_curve.py:23: DeprecationWarning: This module was deprecated in version 0.18 in favor of the model_selection module into which all the functions are moved. This module will be removed in 0.20\n",
      "  DeprecationWarning)\n"
     ]
    },
    {
     "data": {
      "image/png": "[encoded data removed]",
      "text/plain": [
       "<matplotlib.figure.Figure at 0x10aa16c18>"
      ]
     },
     "metadata": {
      "image/png": {
       "height": 535,
       "width": 784
      }
     },
     "output_type": "display_data"
    }
   ],
   "source": [
    "# Learning curve.\n",
    "from sklearn.learning_curve import learning_curve\n",
    "\n",
    "fig, ax = plt.subplots(1, 1)\n",
    "\n",
    "N, train_lc, val_lc = learning_curve(model, X, y, cv=3, train_sizes=np.linspace(0.1, 1.0, 5))\n",
    "\n",
    "ax.plot(N, np.mean(train_lc, 1), color='blue', label='Training score')\n",
    "ax.plot(N, np.mean(val_lc, 1), color='red', label='Validation score')\n",
    "ax.hlines(np.mean([train_lc[-1], val_lc[-1]]), N[0], N[-1], color='gray', linestyle='dashed')\n",
    "\n",
    "ax.set_ylim(0, 1)\n",
    "ax.set_xlim(N[0], N[-1])\n",
    "ax.set_xlabel('Training size')\n",
    "ax.set_ylabel('Score')\n",
    "ax.set_title('Learning curve')\n",
    "ax.legend(loc='lower right')\n",
    "\n",
    "plt.tight_layout()"
   ]
  }
 ],
 "metadata": {
  "anaconda-cloud": {},
  "kernelspec": {
   "display_name": "Python [conda root]",
   "language": "python",
   "name": "conda-root-py"
  },
  "language_info": {
   "codemirror_mode": {
    "name": "ipython",
    "version": 3
   },
   "file_extension": ".py",
   "mimetype": "text/x-python",
   "name": "python",
   "nbconvert_exporter": "python",
   "pygments_lexer": "ipython3",
   "version": "3.5.2"
  }
 },
 "nbformat": 4,
 "nbformat_minor": 2
}
