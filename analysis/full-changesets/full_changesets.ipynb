{
 "cells": [
  {
   "cell_type": "markdown",
   "metadata": {},
   "source": [
    "# Full changesets"
   ]
  },
  {
   "cell_type": "markdown",
   "metadata": {},
   "source": [
    "## Goals\n",
    "- Come up with a list of taggers that will make the model an effective flagger\n",
    "\n",
    "## Workflow\n",
    "- Download the latest 1000 reviewed changesets from osm full features\n",
    "- Use the 500 (250 harmful and 250 not harmful) as the training set and the other for testing.\n",
    "- For every harmful changeset, understand why it was harmful\n",
    "    - Convert why the changeset was harmful into a feature\n",
    "- Train a model with the feature\n",
    "- Predict label for other 500 changesets\n",
    "\n",
    "## Notes\n",
    "- Try a lot of taggers - 100 or even a 1000\n",
    "- What taggers when used by gabbar has the best performance"
   ]
  },
  {
   "cell_type": "code",
   "execution_count": 1,
   "metadata": {
    "collapsed": true
   },
   "outputs": [],
   "source": [
    "%matplotlib inline\n",
    "%config InlineBackend.figure_format = 'retina'\n",
    "\n",
    "import warnings\n",
    "warnings.filterwarnings(\"ignore\")"
   ]
  },
  {
   "cell_type": "code",
   "execution_count": 2,
   "metadata": {
    "collapsed": true
   },
   "outputs": [],
   "source": [
    "import pandas as pd\n",
    "import numpy as np\n",
    "import matplotlib.pyplot as plt\n",
    "import seaborn as sns"
   ]
  },
  {
   "cell_type": "code",
   "execution_count": 3,
   "metadata": {},
   "outputs": [
    {
     "name": "stdout",
     "output_type": "stream",
     "text": [
      "Total changesets: 949\n",
      "Changesets after dropna: 865\n"
     ]
    },
    {
     "data": {
      "text/html": [
       "<div>\n",
       "<table border=\"1\" class=\"dataframe\">\n",
       "  <thead>\n",
       "    <tr style=\"text-align: right;\">\n",
       "      <th></th>\n",
       "      <th>changeset_id</th>\n",
       "      <th>harmful</th>\n",
       "      <th>features_created</th>\n",
       "      <th>features_modified</th>\n",
       "      <th>features_deleted</th>\n",
       "      <th>user_id</th>\n",
       "      <th>user_name</th>\n",
       "      <th>user_changesets</th>\n",
       "      <th>user_features</th>\n",
       "      <th>changeset_bbox_area</th>\n",
       "      <th>node_count</th>\n",
       "      <th>way_count</th>\n",
       "      <th>relation_count</th>\n",
       "    </tr>\n",
       "  </thead>\n",
       "  <tbody>\n",
       "    <tr>\n",
       "      <th>669</th>\n",
       "      <td>47469191</td>\n",
       "      <td>False</td>\n",
       "      <td>500</td>\n",
       "      <td>0</td>\n",
       "      <td>0</td>\n",
       "      <td>94578</td>\n",
       "      <td>andygol</td>\n",
       "      <td>22395.0</td>\n",
       "      <td>4677836.0</td>\n",
       "      <td>4.076766e+04</td>\n",
       "      <td>446</td>\n",
       "      <td>54</td>\n",
       "      <td>0</td>\n",
       "    </tr>\n",
       "    <tr>\n",
       "      <th>597</th>\n",
       "      <td>47475232</td>\n",
       "      <td>False</td>\n",
       "      <td>268</td>\n",
       "      <td>65</td>\n",
       "      <td>4</td>\n",
       "      <td>94578</td>\n",
       "      <td>andygol</td>\n",
       "      <td>22395.0</td>\n",
       "      <td>4677836.0</td>\n",
       "      <td>4.497667e+04</td>\n",
       "      <td>301</td>\n",
       "      <td>35</td>\n",
       "      <td>1</td>\n",
       "    </tr>\n",
       "    <tr>\n",
       "      <th>393</th>\n",
       "      <td>46883762</td>\n",
       "      <td>True</td>\n",
       "      <td>15</td>\n",
       "      <td>6</td>\n",
       "      <td>0</td>\n",
       "      <td>5458965</td>\n",
       "      <td>300game</td>\n",
       "      <td>3.0</td>\n",
       "      <td>97.0</td>\n",
       "      <td>8.278626e+06</td>\n",
       "      <td>15</td>\n",
       "      <td>6</td>\n",
       "      <td>0</td>\n",
       "    </tr>\n",
       "    <tr>\n",
       "      <th>498</th>\n",
       "      <td>47484280</td>\n",
       "      <td>False</td>\n",
       "      <td>0</td>\n",
       "      <td>2</td>\n",
       "      <td>3</td>\n",
       "      <td>3295795</td>\n",
       "      <td>MalingaGIS</td>\n",
       "      <td>2928.0</td>\n",
       "      <td>246259.0</td>\n",
       "      <td>1.317513e+02</td>\n",
       "      <td>4</td>\n",
       "      <td>1</td>\n",
       "      <td>0</td>\n",
       "    </tr>\n",
       "    <tr>\n",
       "      <th>296</th>\n",
       "      <td>47091252</td>\n",
       "      <td>True</td>\n",
       "      <td>0</td>\n",
       "      <td>0</td>\n",
       "      <td>1</td>\n",
       "      <td>3106945</td>\n",
       "      <td>transilien-mapmagare</td>\n",
       "      <td>298.0</td>\n",
       "      <td>252.0</td>\n",
       "      <td>0.000000e+00</td>\n",
       "      <td>1</td>\n",
       "      <td>0</td>\n",
       "      <td>0</td>\n",
       "    </tr>\n",
       "  </tbody>\n",
       "</table>\n",
       "</div>"
      ],
      "text/plain": [
       "     changeset_id harmful  features_created  features_modified  \\\n",
       "669      47469191   False               500                  0   \n",
       "597      47475232   False               268                 65   \n",
       "393      46883762    True                15                  6   \n",
       "498      47484280   False                 0                  2   \n",
       "296      47091252    True                 0                  0   \n",
       "\n",
       "     features_deleted  user_id             user_name  user_changesets  \\\n",
       "669                 0    94578               andygol          22395.0   \n",
       "597                 4    94578               andygol          22395.0   \n",
       "393                 0  5458965               300game              3.0   \n",
       "498                 3  3295795            MalingaGIS           2928.0   \n",
       "296                 1  3106945  transilien-mapmagare            298.0   \n",
       "\n",
       "     user_features  changeset_bbox_area  node_count  way_count  relation_count  \n",
       "669      4677836.0         4.076766e+04         446         54               0  \n",
       "597      4677836.0         4.497667e+04         301         35               1  \n",
       "393           97.0         8.278626e+06          15          6               0  \n",
       "498       246259.0         1.317513e+02           4          1               0  \n",
       "296          252.0         0.000000e+00           1          0               0  "
      ]
     },
     "execution_count": 3,
     "metadata": {},
     "output_type": "execute_result"
    }
   ],
   "source": [
    "changesets = pd.read_csv('changesets-with-features.csv')\n",
    "print('Total changesets: {}'.format(changesets.shape[0]))\n",
    "\n",
    "changesets = changesets.dropna()\n",
    "print('Changesets after dropna: {}'.format(changesets.shape[0]))\n",
    "\n",
    "changesets.sample(5)"
   ]
  },
  {
   "cell_type": "code",
   "execution_count": 4,
   "metadata": {},
   "outputs": [
    {
     "name": "stdout",
     "output_type": "stream",
     "text": [
      "Changesets harmful: (423, 13)\n",
      "Changesets harmful: (442, 13)\n"
     ]
    }
   ],
   "source": [
    "harmful_changesets = changesets[changesets['harmful'] == True]\n",
    "print('Changesets harmful: {}'.format(harmful_changesets.shape))\n",
    "\n",
    "\n",
    "not_harmful_changesets = changesets[changesets['harmful'] == False]\n",
    "print('Changesets harmful: {}'.format(not_harmful_changesets.shape))"
   ]
  },
  {
   "cell_type": "code",
   "execution_count": 5,
   "metadata": {},
   "outputs": [
    {
     "name": "stdout",
     "output_type": "stream",
     "text": [
      "Training samples: 648\n",
      "Testing samples: 217\n"
     ]
    },
    {
     "name": "stderr",
     "output_type": "stream",
     "text": [
      "/Users/bkowshik/anaconda/lib/python3.5/site-packages/sklearn/cross_validation.py:44: DeprecationWarning: This module was deprecated in version 0.18 in favor of the model_selection module into which all the refactored classes and functions are moved. Also note that the interface of the new CV iterators are different from that of this module. This module will be removed in 0.20.\n",
      "  \"This module will be removed in 0.20.\", DeprecationWarning)\n"
     ]
    }
   ],
   "source": [
    "from sklearn.cross_validation import train_test_split\n",
    "\n",
    "# Feature matrix.\n",
    "features = [\n",
    "    'features_created',\n",
    "    'features_modified',\n",
    "    'features_deleted',\n",
    "    'user_changesets',\n",
    "    'user_features',\n",
    "    'changeset_bbox_area',\n",
    "    'node_count',\n",
    "    'way_count',\n",
    "    'relation_count'\n",
    "]\n",
    "X = changesets[features]\n",
    "\n",
    "# Target array.\n",
    "y = changesets['harmful']\n",
    "\n",
    "# Scale features using RobustScaler which is good for outliers.\n",
    "from sklearn.preprocessing import RobustScaler\n",
    "scaler = RobustScaler().fit(X)\n",
    "X = scaler.transform(X)\n",
    "\n",
    "Xtrain, Xtest, ytrain, ytest = train_test_split(X, y, random_state=42)\n",
    "print('Training samples: {}'.format(Xtrain.shape[0]))\n",
    "print('Testing samples: {}'.format(Xtest.shape[0]))"
   ]
  },
  {
   "cell_type": "code",
   "execution_count": 6,
   "metadata": {},
   "outputs": [],
   "source": [
    "from sklearn.naive_bayes import GaussianNB\n",
    "model = GaussianNB()\n",
    "model.fit(Xtrain, ytrain);\n",
    "\n",
    "# Get predictions.\n",
    "ymodel = model.predict(Xtest)"
   ]
  },
  {
   "cell_type": "code",
   "execution_count": 7,
   "metadata": {},
   "outputs": [
    {
     "name": "stdout",
     "output_type": "stream",
     "text": [
      "             precision    recall  f1-score   support\n",
      "\n",
      "      False       0.17      0.01      0.02       114\n",
      "       True       0.46      0.95      0.62       103\n",
      "\n",
      "avg / total       0.31      0.46      0.31       217\n",
      "\n"
     ]
    }
   ],
   "source": [
    "from sklearn.metrics import classification_report\n",
    "print(classification_report(ytest, ymodel))"
   ]
  },
  {
   "cell_type": "code",
   "execution_count": 8,
   "metadata": {},
   "outputs": [
    {
     "data": {
      "text/plain": [
       "0.50755318467256183"
      ]
     },
     "execution_count": 8,
     "metadata": {},
     "output_type": "execute_result"
    }
   ],
   "source": [
    "# Evaluate a score by cross-validation.\n",
    "from sklearn.cross_validation import cross_val_score\n",
    "scores = cross_val_score(model, X, y, cv=3)\n",
    "np.mean(scores)"
   ]
  },
  {
   "cell_type": "code",
   "execution_count": 9,
   "metadata": {},
   "outputs": [
    {
     "name": "stderr",
     "output_type": "stream",
     "text": [
      "/Users/bkowshik/anaconda/lib/python3.5/site-packages/sklearn/learning_curve.py:23: DeprecationWarning: This module was deprecated in version 0.18 in favor of the model_selection module into which all the functions are moved. This module will be removed in 0.20\n",
      "  DeprecationWarning)\n"
     ]
    },
    {
     "data": {
      "image/png": "[encoded data removed]",
      "text/plain": [
       "<matplotlib.figure.Figure at 0x10fb0e9e8>"
      ]
     },
     "metadata": {
      "image/png": {
       "height": 535,
       "width": 784
      }
     },
     "output_type": "display_data"
    }
   ],
   "source": [
    "# Learning curve.\n",
    "from sklearn.learning_curve import learning_curve\n",
    "\n",
    "fig, ax = plt.subplots(1, 1)\n",
    "\n",
    "N, train_lc, val_lc = learning_curve(model, X, y, cv=3, train_sizes=np.linspace(0.1, 1.0, 5))\n",
    "\n",
    "ax.plot(N, np.mean(train_lc, 1), color='blue', label='Training score')\n",
    "ax.plot(N, np.mean(val_lc, 1), color='red', label='Validation score')\n",
    "ax.hlines(np.mean([train_lc[-1], val_lc[-1]]), N[0], N[-1], color='gray', linestyle='dashed')\n",
    "\n",
    "ax.set_ylim(0, 1)\n",
    "ax.set_xlim(N[0], N[-1])\n",
    "ax.set_xlabel('Training size')\n",
    "ax.set_ylabel('Score')\n",
    "ax.set_title('Learning curve')\n",
    "ax.legend(loc='lower right')\n",
    "\n",
    "plt.tight_layout()"
   ]
  },
  {
   "cell_type": "code",
   "execution_count": 10,
   "metadata": {},
   "outputs": [],
   "source": [
    "# Add the predictions as a new column.\n",
    "changesets['prediction'] = model.predict(scaler.transform(changesets[features]))"
   ]
  },
  {
   "cell_type": "code",
   "execution_count": 11,
   "metadata": {},
   "outputs": [
    {
     "data": {
      "text/plain": [
       "array([  5, 437,  16, 407])"
      ]
     },
     "execution_count": 11,
     "metadata": {},
     "output_type": "execute_result"
    }
   ],
   "source": [
    "from sklearn.metrics import confusion_matrix\n",
    "np.ravel(confusion_matrix(changesets['harmful'], changesets['prediction']))"
   ]
  },
  {
   "cell_type": "code",
   "execution_count": 12,
   "metadata": {},
   "outputs": [
    {
     "name": "stdout",
     "output_type": "stream",
     "text": [
      "Predicted true: 844\n",
      "Predicted false: 21\n"
     ]
    }
   ],
   "source": [
    "print('Predicted true: {}'.format(changesets[changesets['prediction'] == True].shape[0]))\n",
    "print('Predicted false: {}'.format(changesets[changesets['prediction'] == False].shape[0]))"
   ]
  },
  {
   "cell_type": "code",
   "execution_count": 13,
   "metadata": {},
   "outputs": [
    {
     "name": "stdout",
     "output_type": "stream",
     "text": [
      "Actual: True, Prediction: True, Changesets: 407\n",
      "Actual: True, Prediction: False, Changesets: 16\n",
      "Actual: False, Prediction: True, Changesets: 437\n",
      "Actual: False, Prediction: False, Changesets: 5\n"
     ]
    }
   ],
   "source": [
    "booleans = [True, False]\n",
    "for actual in booleans:\n",
    "    for prediction in booleans:\n",
    "        temp = changesets[(changesets['harmful'] == actual) & (changesets['prediction'] == prediction)]\n",
    "        print('Actual: {}, Prediction: {}, Changesets: {}'.format(actual, prediction, temp.shape[0]))"
   ]
  },
  {
   "cell_type": "code",
   "execution_count": 14,
   "metadata": {},
   "outputs": [
    {
     "data": {
      "text/html": [
       "<div>\n",
       "<table border=\"1\" class=\"dataframe\">\n",
       "  <thead>\n",
       "    <tr style=\"text-align: right;\">\n",
       "      <th></th>\n",
       "      <th>changeset_id</th>\n",
       "      <th>harmful</th>\n",
       "      <th>features_created</th>\n",
       "      <th>features_modified</th>\n",
       "      <th>features_deleted</th>\n",
       "      <th>user_id</th>\n",
       "      <th>user_name</th>\n",
       "      <th>user_changesets</th>\n",
       "      <th>user_features</th>\n",
       "      <th>changeset_bbox_area</th>\n",
       "      <th>node_count</th>\n",
       "      <th>way_count</th>\n",
       "      <th>relation_count</th>\n",
       "      <th>prediction</th>\n",
       "    </tr>\n",
       "  </thead>\n",
       "  <tbody>\n",
       "    <tr>\n",
       "      <th>469</th>\n",
       "      <td>47491144</td>\n",
       "      <td>False</td>\n",
       "      <td>0</td>\n",
       "      <td>1</td>\n",
       "      <td>0</td>\n",
       "      <td>2219338</td>\n",
       "      <td>RichRico</td>\n",
       "      <td>124816.0</td>\n",
       "      <td>3391525.0</td>\n",
       "      <td>2.983367e+04</td>\n",
       "      <td>0</td>\n",
       "      <td>1</td>\n",
       "      <td>0</td>\n",
       "      <td>True</td>\n",
       "    </tr>\n",
       "    <tr>\n",
       "      <th>470</th>\n",
       "      <td>47489764</td>\n",
       "      <td>False</td>\n",
       "      <td>0</td>\n",
       "      <td>2</td>\n",
       "      <td>0</td>\n",
       "      <td>236361</td>\n",
       "      <td>NoelB</td>\n",
       "      <td>7790.0</td>\n",
       "      <td>2403385.0</td>\n",
       "      <td>4.419678e+05</td>\n",
       "      <td>0</td>\n",
       "      <td>1</td>\n",
       "      <td>1</td>\n",
       "      <td>True</td>\n",
       "    </tr>\n",
       "    <tr>\n",
       "      <th>471</th>\n",
       "      <td>47489622</td>\n",
       "      <td>False</td>\n",
       "      <td>1</td>\n",
       "      <td>1</td>\n",
       "      <td>0</td>\n",
       "      <td>1658294</td>\n",
       "      <td>ismaell</td>\n",
       "      <td>231.0</td>\n",
       "      <td>822.0</td>\n",
       "      <td>7.354667e+05</td>\n",
       "      <td>2</td>\n",
       "      <td>0</td>\n",
       "      <td>0</td>\n",
       "      <td>True</td>\n",
       "    </tr>\n",
       "    <tr>\n",
       "      <th>472</th>\n",
       "      <td>47490850</td>\n",
       "      <td>False</td>\n",
       "      <td>291</td>\n",
       "      <td>110</td>\n",
       "      <td>15</td>\n",
       "      <td>2030995</td>\n",
       "      <td>Bonix-Mapper</td>\n",
       "      <td>12598.0</td>\n",
       "      <td>2915985.0</td>\n",
       "      <td>2.282857e+06</td>\n",
       "      <td>376</td>\n",
       "      <td>40</td>\n",
       "      <td>0</td>\n",
       "      <td>True</td>\n",
       "    </tr>\n",
       "    <tr>\n",
       "      <th>473</th>\n",
       "      <td>47489440</td>\n",
       "      <td>False</td>\n",
       "      <td>26</td>\n",
       "      <td>5</td>\n",
       "      <td>2</td>\n",
       "      <td>1420318</td>\n",
       "      <td>4b696d</td>\n",
       "      <td>3284.0</td>\n",
       "      <td>344102.0</td>\n",
       "      <td>5.057853e+05</td>\n",
       "      <td>21</td>\n",
       "      <td>12</td>\n",
       "      <td>0</td>\n",
       "      <td>True</td>\n",
       "    </tr>\n",
       "  </tbody>\n",
       "</table>\n",
       "</div>"
      ],
      "text/plain": [
       "     changeset_id harmful  features_created  features_modified  \\\n",
       "469      47491144   False                 0                  1   \n",
       "470      47489764   False                 0                  2   \n",
       "471      47489622   False                 1                  1   \n",
       "472      47490850   False               291                110   \n",
       "473      47489440   False                26                  5   \n",
       "\n",
       "     features_deleted  user_id     user_name  user_changesets  user_features  \\\n",
       "469                 0  2219338      RichRico         124816.0      3391525.0   \n",
       "470                 0   236361         NoelB           7790.0      2403385.0   \n",
       "471                 0  1658294       ismaell            231.0          822.0   \n",
       "472                15  2030995  Bonix-Mapper          12598.0      2915985.0   \n",
       "473                 2  1420318        4b696d           3284.0       344102.0   \n",
       "\n",
       "     changeset_bbox_area  node_count  way_count  relation_count prediction  \n",
       "469         2.983367e+04           0          1               0       True  \n",
       "470         4.419678e+05           0          1               1       True  \n",
       "471         7.354667e+05           2          0               0       True  \n",
       "472         2.282857e+06         376         40               0       True  \n",
       "473         5.057853e+05          21         12               0       True  "
      ]
     },
     "execution_count": 14,
     "metadata": {},
     "output_type": "execute_result"
    }
   ],
   "source": [
    "changesets[(changesets['harmful'] == False) & (changesets['prediction'] == True)].head()"
   ]
  }
 ],
 "metadata": {
  "anaconda-cloud": {},
  "kernelspec": {
   "display_name": "Python [conda root]",
   "language": "python",
   "name": "conda-root-py"
  },
  "language_info": {
   "codemirror_mode": {
    "name": "ipython",
    "version": 3
   },
   "file_extension": ".py",
   "mimetype": "text/x-python",
   "name": "python",
   "nbconvert_exporter": "python",
   "pygments_lexer": "ipython3",
   "version": "3.5.2"
  }
 },
 "nbformat": 4,
 "nbformat_minor": 2
}
