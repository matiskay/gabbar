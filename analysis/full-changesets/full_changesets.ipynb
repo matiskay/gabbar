{
 "cells": [
  {
   "cell_type": "markdown",
   "metadata": {},
   "source": [
    "# Full changesets"
   ]
  },
  {
   "cell_type": "markdown",
   "metadata": {},
   "source": [
    "## Goals\n",
    "- Come up with a list of taggers that will make the model an effective flagger\n",
    "\n",
    "## Workflow\n",
    "- Download the latest 1000 reviewed changesets from osm full features\n",
    "- Use the 500 (250 harmful and 250 not harmful) as the training set and the other for testing.\n",
    "- For every harmful changeset, understand why it was harmful\n",
    "    - Convert why the changeset was harmful into a feature\n",
    "- Train a model with the feature\n",
    "- Predict label for other 500 changesets\n",
    "\n",
    "## Notes\n",
    "- Try a lot of taggers - 100 or even a 1000\n",
    "- What taggers when used by gabbar has the best performance"
   ]
  },
  {
   "cell_type": "code",
   "execution_count": 1,
   "metadata": {
    "collapsed": true
   },
   "outputs": [],
   "source": [
    "%matplotlib inline\n",
    "%config InlineBackend.figure_format = 'retina'\n",
    "\n",
    "import warnings\n",
    "warnings.filterwarnings(\"ignore\")"
   ]
  },
  {
   "cell_type": "code",
   "execution_count": 2,
   "metadata": {
    "collapsed": true
   },
   "outputs": [],
   "source": [
    "import pandas as pd\n",
    "import numpy as np\n",
    "import matplotlib.pyplot as plt\n",
    "import seaborn as sns"
   ]
  },
  {
   "cell_type": "code",
   "execution_count": 3,
   "metadata": {},
   "outputs": [
    {
     "name": "stdout",
     "output_type": "stream",
     "text": [
      "Total changesets: 949\n",
      "Changesets after dropna: 865\n"
     ]
    },
    {
     "data": {
      "text/html": [
       "<div>\n",
       "<table border=\"1\" class=\"dataframe\">\n",
       "  <thead>\n",
       "    <tr style=\"text-align: right;\">\n",
       "      <th></th>\n",
       "      <th>changeset_id</th>\n",
       "      <th>harmful</th>\n",
       "      <th>features_created</th>\n",
       "      <th>features_modified</th>\n",
       "      <th>features_deleted</th>\n",
       "      <th>user_id</th>\n",
       "      <th>user_name</th>\n",
       "      <th>user_changesets</th>\n",
       "      <th>user_features</th>\n",
       "    </tr>\n",
       "  </thead>\n",
       "  <tbody>\n",
       "    <tr>\n",
       "      <th>272</th>\n",
       "      <td>47150407</td>\n",
       "      <td>True</td>\n",
       "      <td>1</td>\n",
       "      <td>18</td>\n",
       "      <td>1</td>\n",
       "      <td>1799626</td>\n",
       "      <td>AjBelnuovo</td>\n",
       "      <td>39219.0</td>\n",
       "      <td>463764.0</td>\n",
       "    </tr>\n",
       "    <tr>\n",
       "      <th>464</th>\n",
       "      <td>46720748</td>\n",
       "      <td>True</td>\n",
       "      <td>7</td>\n",
       "      <td>0</td>\n",
       "      <td>0</td>\n",
       "      <td>5457963</td>\n",
       "      <td>Dmelton</td>\n",
       "      <td>3.0</td>\n",
       "      <td>25.0</td>\n",
       "    </tr>\n",
       "    <tr>\n",
       "      <th>16</th>\n",
       "      <td>47453525</td>\n",
       "      <td>True</td>\n",
       "      <td>7</td>\n",
       "      <td>1</td>\n",
       "      <td>0</td>\n",
       "      <td>5580467</td>\n",
       "      <td>HectorCruz1</td>\n",
       "      <td>1.0</td>\n",
       "      <td>9.0</td>\n",
       "    </tr>\n",
       "    <tr>\n",
       "      <th>21</th>\n",
       "      <td>47446325</td>\n",
       "      <td>True</td>\n",
       "      <td>0</td>\n",
       "      <td>1</td>\n",
       "      <td>0</td>\n",
       "      <td>5605352</td>\n",
       "      <td>Denis Dordoigne</td>\n",
       "      <td>12.0</td>\n",
       "      <td>11.0</td>\n",
       "    </tr>\n",
       "    <tr>\n",
       "      <th>923</th>\n",
       "      <td>47456377</td>\n",
       "      <td>False</td>\n",
       "      <td>0</td>\n",
       "      <td>1</td>\n",
       "      <td>0</td>\n",
       "      <td>5380436</td>\n",
       "      <td>Luciente</td>\n",
       "      <td>182.0</td>\n",
       "      <td>18451.0</td>\n",
       "    </tr>\n",
       "  </tbody>\n",
       "</table>\n",
       "</div>"
      ],
      "text/plain": [
       "     changeset_id harmful  features_created  features_modified  \\\n",
       "272      47150407    True                 1                 18   \n",
       "464      46720748    True                 7                  0   \n",
       "16       47453525    True                 7                  1   \n",
       "21       47446325    True                 0                  1   \n",
       "923      47456377   False                 0                  1   \n",
       "\n",
       "     features_deleted  user_id        user_name  user_changesets  \\\n",
       "272                 1  1799626       AjBelnuovo          39219.0   \n",
       "464                 0  5457963          Dmelton              3.0   \n",
       "16                  0  5580467      HectorCruz1              1.0   \n",
       "21                  0  5605352  Denis Dordoigne             12.0   \n",
       "923                 0  5380436         Luciente            182.0   \n",
       "\n",
       "     user_features  \n",
       "272       463764.0  \n",
       "464           25.0  \n",
       "16             9.0  \n",
       "21            11.0  \n",
       "923        18451.0  "
      ]
     },
     "execution_count": 3,
     "metadata": {},
     "output_type": "execute_result"
    }
   ],
   "source": [
    "changesets = pd.read_csv('changesets-with-features.csv')\n",
    "print('Total changesets: {}'.format(changesets.shape[0]))\n",
    "\n",
    "changesets = changesets.dropna()\n",
    "print('Changesets after dropna: {}'.format(changesets.shape[0]))\n",
    "\n",
    "changesets.sample(5)"
   ]
  },
  {
   "cell_type": "code",
   "execution_count": 4,
   "metadata": {},
   "outputs": [
    {
     "name": "stdout",
     "output_type": "stream",
     "text": [
      "Changesets harmful: (423, 9)\n",
      "Changesets harmful: (442, 9)\n"
     ]
    }
   ],
   "source": [
    "harmful_changesets = changesets[changesets['harmful'] == True]\n",
    "print('Changesets harmful: {}'.format(harmful_changesets.shape))\n",
    "\n",
    "\n",
    "not_harmful_changesets = changesets[changesets['harmful'] == False]\n",
    "print('Changesets harmful: {}'.format(not_harmful_changesets.shape))"
   ]
  },
  {
   "cell_type": "code",
   "execution_count": 5,
   "metadata": {},
   "outputs": [
    {
     "name": "stdout",
     "output_type": "stream",
     "text": [
      "Training samples: 648\n",
      "Testing samples: 217\n"
     ]
    },
    {
     "name": "stderr",
     "output_type": "stream",
     "text": [
      "/Users/bkowshik/anaconda/lib/python3.5/site-packages/sklearn/cross_validation.py:44: DeprecationWarning: This module was deprecated in version 0.18 in favor of the model_selection module into which all the refactored classes and functions are moved. Also note that the interface of the new CV iterators are different from that of this module. This module will be removed in 0.20.\n",
      "  \"This module will be removed in 0.20.\", DeprecationWarning)\n"
     ]
    }
   ],
   "source": [
    "from sklearn.cross_validation import train_test_split\n",
    "\n",
    "# Feature matrix.\n",
    "features = [\n",
    "    'features_created',\n",
    "    'features_modified',\n",
    "    'features_deleted',\n",
    "    'user_changesets',\n",
    "    'user_features',\n",
    "]\n",
    "X = changesets[features]\n",
    "\n",
    "# Target array.\n",
    "y = changesets['harmful']\n",
    "\n",
    "Xtrain, Xtest, ytrain, ytest = train_test_split(X, y, random_state=42)\n",
    "print('Training samples: {}'.format(Xtrain.shape[0]))\n",
    "print('Testing samples: {}'.format(Xtest.shape[0]))"
   ]
  },
  {
   "cell_type": "code",
   "execution_count": 6,
   "metadata": {},
   "outputs": [],
   "source": [
    "from sklearn.naive_bayes import GaussianNB\n",
    "model = GaussianNB()\n",
    "model.fit(Xtrain, ytrain);\n",
    "\n",
    "# Get predictions.\n",
    "ymodel = model.predict(Xtest)"
   ]
  },
  {
   "cell_type": "code",
   "execution_count": 7,
   "metadata": {},
   "outputs": [
    {
     "name": "stdout",
     "output_type": "stream",
     "text": [
      "             precision    recall  f1-score   support\n",
      "\n",
      "      False       0.87      0.29      0.43       114\n",
      "       True       0.55      0.95      0.70       103\n",
      "\n",
      "avg / total       0.72      0.60      0.56       217\n",
      "\n"
     ]
    }
   ],
   "source": [
    "from sklearn.metrics import classification_report\n",
    "print(classification_report(ytest, ymodel))"
   ]
  },
  {
   "cell_type": "code",
   "execution_count": 8,
   "metadata": {},
   "outputs": [
    {
     "data": {
      "text/plain": [
       "0.58731417403562725"
      ]
     },
     "execution_count": 8,
     "metadata": {},
     "output_type": "execute_result"
    }
   ],
   "source": [
    "# Evaluate a score by cross-validation.\n",
    "from sklearn.cross_validation import cross_val_score\n",
    "scores = cross_val_score(model, X, y, cv=3)\n",
    "np.mean(scores)"
   ]
  },
  {
   "cell_type": "code",
   "execution_count": 9,
   "metadata": {},
   "outputs": [
    {
     "name": "stderr",
     "output_type": "stream",
     "text": [
      "/Users/bkowshik/anaconda/lib/python3.5/site-packages/sklearn/learning_curve.py:23: DeprecationWarning: This module was deprecated in version 0.18 in favor of the model_selection module into which all the functions are moved. This module will be removed in 0.20\n",
      "  DeprecationWarning)\n"
     ]
    },
    {
     "data": {
      "image/png": "[encoded data removed]",
      "text/plain": [
       "<matplotlib.figure.Figure at 0x10fa99a58>"
      ]
     },
     "metadata": {
      "image/png": {
       "height": 535,
       "width": 784
      }
     },
     "output_type": "display_data"
    }
   ],
   "source": [
    "# Learning curve.\n",
    "from sklearn.learning_curve import learning_curve\n",
    "\n",
    "fig, ax = plt.subplots(1, 1)\n",
    "\n",
    "N, train_lc, val_lc = learning_curve(model, X, y, cv=3, train_sizes=np.linspace(0.1, 1.0, 5))\n",
    "\n",
    "ax.plot(N, np.mean(train_lc, 1), color='blue', label='Training score')\n",
    "ax.plot(N, np.mean(val_lc, 1), color='red', label='Validation score')\n",
    "ax.hlines(np.mean([train_lc[-1], val_lc[-1]]), N[0], N[-1], color='gray', linestyle='dashed')\n",
    "\n",
    "ax.set_ylim(0, 1)\n",
    "ax.set_xlim(N[0], N[-1])\n",
    "ax.set_xlabel('Training size')\n",
    "ax.set_ylabel('Score')\n",
    "ax.set_title('Learning curve')\n",
    "ax.legend(loc='lower right')\n",
    "\n",
    "plt.tight_layout()"
   ]
  },
  {
   "cell_type": "code",
   "execution_count": 10,
   "metadata": {},
   "outputs": [],
   "source": [
    "# Add the predictions as a new column.\n",
    "changesets['prediction'] = model.predict(changesets[features])"
   ]
  },
  {
   "cell_type": "code",
   "execution_count": 11,
   "metadata": {},
   "outputs": [
    {
     "data": {
      "text/plain": [
       "array([127, 315,  15, 408])"
      ]
     },
     "execution_count": 11,
     "metadata": {},
     "output_type": "execute_result"
    }
   ],
   "source": [
    "from sklearn.metrics import confusion_matrix\n",
    "np.ravel(confusion_matrix(changesets['harmful'], changesets['prediction']))"
   ]
  },
  {
   "cell_type": "code",
   "execution_count": 12,
   "metadata": {},
   "outputs": [
    {
     "name": "stdout",
     "output_type": "stream",
     "text": [
      "Predicted true: 723\n",
      "Predicted false: 142\n"
     ]
    }
   ],
   "source": [
    "print('Predicted true: {}'.format(changesets[changesets['prediction'] == True].shape[0]))\n",
    "print('Predicted false: {}'.format(changesets[changesets['prediction'] == False].shape[0]))"
   ]
  },
  {
   "cell_type": "code",
   "execution_count": 13,
   "metadata": {},
   "outputs": [
    {
     "name": "stdout",
     "output_type": "stream",
     "text": [
      "Actual: True, Prediction: True, Changesets: 408\n",
      "Actual: True, Prediction: False, Changesets: 15\n",
      "Actual: False, Prediction: True, Changesets: 315\n",
      "Actual: False, Prediction: False, Changesets: 127\n"
     ]
    }
   ],
   "source": [
    "booleans = [True, False]\n",
    "for actual in booleans:\n",
    "    for prediction in booleans:\n",
    "        temp = changesets[(changesets['harmful'] == actual) & (changesets['prediction'] == prediction)]\n",
    "        print('Actual: {}, Prediction: {}, Changesets: {}'.format(actual, prediction, temp.shape[0]))"
   ]
  },
  {
   "cell_type": "code",
   "execution_count": 14,
   "metadata": {},
   "outputs": [
    {
     "data": {
      "text/html": [
       "<div>\n",
       "<table border=\"1\" class=\"dataframe\">\n",
       "  <thead>\n",
       "    <tr style=\"text-align: right;\">\n",
       "      <th></th>\n",
       "      <th>changeset_id</th>\n",
       "      <th>harmful</th>\n",
       "      <th>features_created</th>\n",
       "      <th>features_modified</th>\n",
       "      <th>features_deleted</th>\n",
       "      <th>user_id</th>\n",
       "      <th>user_name</th>\n",
       "      <th>user_changesets</th>\n",
       "      <th>user_features</th>\n",
       "      <th>prediction</th>\n",
       "    </tr>\n",
       "  </thead>\n",
       "  <tbody>\n",
       "    <tr>\n",
       "      <th>82</th>\n",
       "      <td>47394226</td>\n",
       "      <td>True</td>\n",
       "      <td>0</td>\n",
       "      <td>2</td>\n",
       "      <td>0</td>\n",
       "      <td>360392</td>\n",
       "      <td>maxerickson</td>\n",
       "      <td>15412.0</td>\n",
       "      <td>4438829.0</td>\n",
       "      <td>False</td>\n",
       "    </tr>\n",
       "    <tr>\n",
       "      <th>103</th>\n",
       "      <td>47376830</td>\n",
       "      <td>True</td>\n",
       "      <td>94</td>\n",
       "      <td>311</td>\n",
       "      <td>241</td>\n",
       "      <td>5181576</td>\n",
       "      <td>Kpburns</td>\n",
       "      <td>371.0</td>\n",
       "      <td>61614.0</td>\n",
       "      <td>False</td>\n",
       "    </tr>\n",
       "    <tr>\n",
       "      <th>115</th>\n",
       "      <td>47376781</td>\n",
       "      <td>True</td>\n",
       "      <td>0</td>\n",
       "      <td>142</td>\n",
       "      <td>2</td>\n",
       "      <td>665748</td>\n",
       "      <td>sebastic</td>\n",
       "      <td>14784.0</td>\n",
       "      <td>3011669.0</td>\n",
       "      <td>False</td>\n",
       "    </tr>\n",
       "    <tr>\n",
       "      <th>126</th>\n",
       "      <td>47375211</td>\n",
       "      <td>True</td>\n",
       "      <td>0</td>\n",
       "      <td>79</td>\n",
       "      <td>2</td>\n",
       "      <td>130472</td>\n",
       "      <td>fx99</td>\n",
       "      <td>22076.0</td>\n",
       "      <td>2629075.0</td>\n",
       "      <td>False</td>\n",
       "    </tr>\n",
       "    <tr>\n",
       "      <th>131</th>\n",
       "      <td>47350486</td>\n",
       "      <td>True</td>\n",
       "      <td>0</td>\n",
       "      <td>97</td>\n",
       "      <td>0</td>\n",
       "      <td>290680</td>\n",
       "      <td>wheelmap_visitor</td>\n",
       "      <td>16500.0</td>\n",
       "      <td>512192.0</td>\n",
       "      <td>False</td>\n",
       "    </tr>\n",
       "  </tbody>\n",
       "</table>\n",
       "</div>"
      ],
      "text/plain": [
       "     changeset_id harmful  features_created  features_modified  \\\n",
       "82       47394226    True                 0                  2   \n",
       "103      47376830    True                94                311   \n",
       "115      47376781    True                 0                142   \n",
       "126      47375211    True                 0                 79   \n",
       "131      47350486    True                 0                 97   \n",
       "\n",
       "     features_deleted  user_id         user_name  user_changesets  \\\n",
       "82                  0   360392       maxerickson          15412.0   \n",
       "103               241  5181576           Kpburns            371.0   \n",
       "115                 2   665748          sebastic          14784.0   \n",
       "126                 2   130472              fx99          22076.0   \n",
       "131                 0   290680  wheelmap_visitor          16500.0   \n",
       "\n",
       "     user_features prediction  \n",
       "82       4438829.0      False  \n",
       "103        61614.0      False  \n",
       "115      3011669.0      False  \n",
       "126      2629075.0      False  \n",
       "131       512192.0      False  "
      ]
     },
     "execution_count": 14,
     "metadata": {},
     "output_type": "execute_result"
    }
   ],
   "source": [
    "changesets[(changesets['harmful'] == True) & (changesets['prediction'] == False)].head()"
   ]
  }
 ],
 "metadata": {
  "anaconda-cloud": {},
  "kernelspec": {
   "display_name": "Python [conda root]",
   "language": "python",
   "name": "conda-root-py"
  },
  "language_info": {
   "codemirror_mode": {
    "name": "ipython",
    "version": 3
   },
   "file_extension": ".py",
   "mimetype": "text/x-python",
   "name": "python",
   "nbconvert_exporter": "python",
   "pygments_lexer": "ipython3",
   "version": "3.5.2"
  }
 },
 "nbformat": 4,
 "nbformat_minor": 2
}
