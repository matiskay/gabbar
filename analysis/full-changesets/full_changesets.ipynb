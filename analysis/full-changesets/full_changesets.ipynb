{
 "cells": [
  {
   "cell_type": "markdown",
   "metadata": {},
   "source": [
    "# Full changesets"
   ]
  },
  {
   "cell_type": "markdown",
   "metadata": {},
   "source": [
    "## Goals\n",
    "- Come up with a list of taggers that will make the model an effective flagger\n",
    "\n",
    "## Workflow\n",
    "- Download the latest 1000 reviewed changesets from osm full features\n",
    "- Use the 500 (250 harmful and 250 not harmful) as the training set and the other for testing.\n",
    "- For every harmful changeset, understand why it was harmful\n",
    "    - Convert why the changeset was harmful into a feature\n",
    "- Train a model with the feature\n",
    "- Predict label for other 500 changesets\n",
    "\n",
    "## Notes\n",
    "- Try a lot of taggers - 100 or even a 1000\n",
    "- What taggers when used by gabbar has the best performance"
   ]
  },
  {
   "cell_type": "code",
   "execution_count": 1,
   "metadata": {
    "collapsed": true
   },
   "outputs": [],
   "source": [
    "%matplotlib inline\n",
    "%config InlineBackend.figure_format = 'retina'\n",
    "\n",
    "import warnings\n",
    "warnings.filterwarnings(\"ignore\")"
   ]
  },
  {
   "cell_type": "code",
   "execution_count": 2,
   "metadata": {
    "collapsed": true
   },
   "outputs": [],
   "source": [
    "import pandas as pd\n",
    "import numpy as np\n",
    "import matplotlib.pyplot as plt\n",
    "import seaborn as sns"
   ]
  },
  {
   "cell_type": "code",
   "execution_count": 3,
   "metadata": {},
   "outputs": [
    {
     "name": "stdout",
     "output_type": "stream",
     "text": [
      "Total changesets: 949\n",
      "Changesets after dropna: 949\n"
     ]
    },
    {
     "data": {
      "text/html": [
       "<div>\n",
       "<table border=\"1\" class=\"dataframe\">\n",
       "  <thead>\n",
       "    <tr style=\"text-align: right;\">\n",
       "      <th></th>\n",
       "      <th>changeset_id</th>\n",
       "      <th>harmful</th>\n",
       "      <th>features_created</th>\n",
       "      <th>features_modified</th>\n",
       "      <th>features_deleted</th>\n",
       "    </tr>\n",
       "  </thead>\n",
       "  <tbody>\n",
       "    <tr>\n",
       "      <th>26</th>\n",
       "      <td>47434820</td>\n",
       "      <td>True</td>\n",
       "      <td>6</td>\n",
       "      <td>1</td>\n",
       "      <td>0</td>\n",
       "    </tr>\n",
       "    <tr>\n",
       "      <th>119</th>\n",
       "      <td>47373736</td>\n",
       "      <td>True</td>\n",
       "      <td>5</td>\n",
       "      <td>7</td>\n",
       "      <td>2</td>\n",
       "    </tr>\n",
       "    <tr>\n",
       "      <th>426</th>\n",
       "      <td>46757428</td>\n",
       "      <td>True</td>\n",
       "      <td>0</td>\n",
       "      <td>3</td>\n",
       "      <td>0</td>\n",
       "    </tr>\n",
       "    <tr>\n",
       "      <th>447</th>\n",
       "      <td>46724814</td>\n",
       "      <td>True</td>\n",
       "      <td>5</td>\n",
       "      <td>0</td>\n",
       "      <td>0</td>\n",
       "    </tr>\n",
       "    <tr>\n",
       "      <th>865</th>\n",
       "      <td>47459925</td>\n",
       "      <td>False</td>\n",
       "      <td>2</td>\n",
       "      <td>1</td>\n",
       "      <td>0</td>\n",
       "    </tr>\n",
       "  </tbody>\n",
       "</table>\n",
       "</div>"
      ],
      "text/plain": [
       "     changeset_id harmful  features_created  features_modified  \\\n",
       "26       47434820    True                 6                  1   \n",
       "119      47373736    True                 5                  7   \n",
       "426      46757428    True                 0                  3   \n",
       "447      46724814    True                 5                  0   \n",
       "865      47459925   False                 2                  1   \n",
       "\n",
       "     features_deleted  \n",
       "26                  0  \n",
       "119                 2  \n",
       "426                 0  \n",
       "447                 0  \n",
       "865                 0  "
      ]
     },
     "execution_count": 3,
     "metadata": {},
     "output_type": "execute_result"
    }
   ],
   "source": [
    "changesets = pd.read_csv('changesets-with-features.csv')\n",
    "print('Total changesets: {}'.format(changesets.shape[0]))\n",
    "\n",
    "changesets = changesets.dropna()\n",
    "print('Changesets after dropna: {}'.format(changesets.shape[0]))\n",
    "\n",
    "changesets.sample(5)"
   ]
  },
  {
   "cell_type": "code",
   "execution_count": 4,
   "metadata": {},
   "outputs": [
    {
     "name": "stdout",
     "output_type": "stream",
     "text": [
      "Changesets harmful: (470, 5)\n",
      "Changesets harmful: (479, 5)\n"
     ]
    }
   ],
   "source": [
    "harmful_changesets = changesets[changesets['harmful'] == True]\n",
    "print('Changesets harmful: {}'.format(harmful_changesets.shape))\n",
    "\n",
    "\n",
    "not_harmful_changesets = changesets[changesets['harmful'] == False]\n",
    "print('Changesets harmful: {}'.format(not_harmful_changesets.shape))"
   ]
  },
  {
   "cell_type": "code",
   "execution_count": 5,
   "metadata": {},
   "outputs": [
    {
     "name": "stdout",
     "output_type": "stream",
     "text": [
      "Training samples: 711\n",
      "Testing samples: 238\n"
     ]
    },
    {
     "name": "stderr",
     "output_type": "stream",
     "text": [
      "/Users/bkowshik/anaconda/lib/python3.5/site-packages/sklearn/cross_validation.py:44: DeprecationWarning: This module was deprecated in version 0.18 in favor of the model_selection module into which all the refactored classes and functions are moved. Also note that the interface of the new CV iterators are different from that of this module. This module will be removed in 0.20.\n",
      "  \"This module will be removed in 0.20.\", DeprecationWarning)\n"
     ]
    }
   ],
   "source": [
    "from sklearn.cross_validation import train_test_split\n",
    "\n",
    "# Feature matrix.\n",
    "features = [\n",
    "    'features_created',\n",
    "    'features_modified',\n",
    "    'features_deleted',\n",
    "]\n",
    "X = changesets[features]\n",
    "\n",
    "# Target array.\n",
    "y = changesets['harmful']\n",
    "\n",
    "Xtrain, Xtest, ytrain, ytest = train_test_split(X, y, random_state=42)\n",
    "print('Training samples: {}'.format(Xtrain.shape[0]))\n",
    "print('Testing samples: {}'.format(Xtest.shape[0]))"
   ]
  },
  {
   "cell_type": "code",
   "execution_count": 6,
   "metadata": {},
   "outputs": [],
   "source": [
    "from sklearn.naive_bayes import GaussianNB\n",
    "model = GaussianNB()\n",
    "model.fit(Xtrain, ytrain);\n",
    "\n",
    "# Get predictions.\n",
    "ymodel = model.predict(Xtest)"
   ]
  },
  {
   "cell_type": "code",
   "execution_count": 7,
   "metadata": {},
   "outputs": [
    {
     "name": "stdout",
     "output_type": "stream",
     "text": [
      "             precision    recall  f1-score   support\n",
      "\n",
      "      False       0.80      0.20      0.32       122\n",
      "       True       0.53      0.95      0.68       116\n",
      "\n",
      "avg / total       0.67      0.56      0.49       238\n",
      "\n"
     ]
    }
   ],
   "source": [
    "from sklearn.metrics import classification_report\n",
    "print(classification_report(ytest, ymodel))"
   ]
  },
  {
   "cell_type": "code",
   "execution_count": 8,
   "metadata": {},
   "outputs": [
    {
     "data": {
      "text/plain": [
       "0.46686695708777731"
      ]
     },
     "execution_count": 8,
     "metadata": {},
     "output_type": "execute_result"
    }
   ],
   "source": [
    "# Evaluate a score by cross-validation.\n",
    "from sklearn.cross_validation import cross_val_score\n",
    "scores = cross_val_score(model, X, y, cv=3)\n",
    "np.mean(scores)"
   ]
  },
  {
   "cell_type": "code",
   "execution_count": 9,
   "metadata": {},
   "outputs": [
    {
     "name": "stderr",
     "output_type": "stream",
     "text": [
      "/Users/bkowshik/anaconda/lib/python3.5/site-packages/sklearn/learning_curve.py:23: DeprecationWarning: This module was deprecated in version 0.18 in favor of the model_selection module into which all the functions are moved. This module will be removed in 0.20\n",
      "  DeprecationWarning)\n"
     ]
    },
    {
     "data": {
      "image/png": "[encoded data removed]",
      "text/plain": [
       "<matplotlib.figure.Figure at 0x10f9bc2b0>"
      ]
     },
     "metadata": {
      "image/png": {
       "height": 535,
       "width": 784
      }
     },
     "output_type": "display_data"
    }
   ],
   "source": [
    "# Learning curve.\n",
    "from sklearn.learning_curve import learning_curve\n",
    "\n",
    "fig, ax = plt.subplots(1, 1)\n",
    "\n",
    "N, train_lc, val_lc = learning_curve(model, X, y, cv=3, train_sizes=np.linspace(0.1, 1.0, 5))\n",
    "\n",
    "ax.plot(N, np.mean(train_lc, 1), color='blue', label='Training score')\n",
    "ax.plot(N, np.mean(val_lc, 1), color='red', label='Validation score')\n",
    "ax.hlines(np.mean([train_lc[-1], val_lc[-1]]), N[0], N[-1], color='gray', linestyle='dashed')\n",
    "\n",
    "ax.set_ylim(0, 1)\n",
    "ax.set_xlim(N[0], N[-1])\n",
    "ax.set_xlabel('Training size')\n",
    "ax.set_ylabel('Score')\n",
    "ax.set_title('Learning curve')\n",
    "ax.legend(loc='lower right')\n",
    "\n",
    "plt.tight_layout()"
   ]
  },
  {
   "cell_type": "code",
   "execution_count": 10,
   "metadata": {},
   "outputs": [],
   "source": [
    "# Add the predictions as a new column.\n",
    "changesets['prediction'] = model.predict(changesets[features])"
   ]
  },
  {
   "cell_type": "code",
   "execution_count": 11,
   "metadata": {},
   "outputs": [
    {
     "data": {
      "text/plain": [
       "array([ 91, 388,  25, 445])"
      ]
     },
     "execution_count": 11,
     "metadata": {},
     "output_type": "execute_result"
    }
   ],
   "source": [
    "from sklearn.metrics import confusion_matrix\n",
    "np.ravel(confusion_matrix(changesets['harmful'], changesets['prediction']))"
   ]
  },
  {
   "cell_type": "code",
   "execution_count": 12,
   "metadata": {},
   "outputs": [
    {
     "name": "stdout",
     "output_type": "stream",
     "text": [
      "Predicted true: 833\n",
      "Predicted false: 116\n"
     ]
    }
   ],
   "source": [
    "print('Predicted true: {}'.format(changesets[changesets['prediction'] == True].shape[0]))\n",
    "print('Predicted false: {}'.format(changesets[changesets['prediction'] == False].shape[0]))"
   ]
  },
  {
   "cell_type": "code",
   "execution_count": 13,
   "metadata": {},
   "outputs": [
    {
     "name": "stdout",
     "output_type": "stream",
     "text": [
      "Actual: True, Prediction: True, Changesets: 445\n",
      "Actual: True, Prediction: False, Changesets: 25\n",
      "Actual: False, Prediction: True, Changesets: 388\n",
      "Actual: False, Prediction: False, Changesets: 91\n"
     ]
    }
   ],
   "source": [
    "booleans = [True, False]\n",
    "for actual in booleans:\n",
    "    for prediction in booleans:\n",
    "        temp = changesets[(changesets['harmful'] == actual) & (changesets['prediction'] == prediction)]\n",
    "        print('Actual: {}, Prediction: {}, Changesets: {}'.format(actual, prediction, temp.shape[0]))"
   ]
  },
  {
   "cell_type": "code",
   "execution_count": 14,
   "metadata": {},
   "outputs": [
    {
     "data": {
      "text/html": [
       "<div>\n",
       "<table border=\"1\" class=\"dataframe\">\n",
       "  <thead>\n",
       "    <tr style=\"text-align: right;\">\n",
       "      <th></th>\n",
       "      <th>changeset_id</th>\n",
       "      <th>harmful</th>\n",
       "      <th>features_created</th>\n",
       "      <th>features_modified</th>\n",
       "      <th>features_deleted</th>\n",
       "      <th>prediction</th>\n",
       "    </tr>\n",
       "  </thead>\n",
       "  <tbody>\n",
       "    <tr>\n",
       "      <th>53</th>\n",
       "      <td>47425928</td>\n",
       "      <td>True</td>\n",
       "      <td>195</td>\n",
       "      <td>3</td>\n",
       "      <td>3</td>\n",
       "      <td>False</td>\n",
       "    </tr>\n",
       "    <tr>\n",
       "      <th>115</th>\n",
       "      <td>47376781</td>\n",
       "      <td>True</td>\n",
       "      <td>0</td>\n",
       "      <td>142</td>\n",
       "      <td>2</td>\n",
       "      <td>False</td>\n",
       "    </tr>\n",
       "    <tr>\n",
       "      <th>126</th>\n",
       "      <td>47375211</td>\n",
       "      <td>True</td>\n",
       "      <td>0</td>\n",
       "      <td>79</td>\n",
       "      <td>2</td>\n",
       "      <td>False</td>\n",
       "    </tr>\n",
       "    <tr>\n",
       "      <th>131</th>\n",
       "      <td>47350486</td>\n",
       "      <td>True</td>\n",
       "      <td>0</td>\n",
       "      <td>97</td>\n",
       "      <td>0</td>\n",
       "      <td>False</td>\n",
       "    </tr>\n",
       "    <tr>\n",
       "      <th>144</th>\n",
       "      <td>47340155</td>\n",
       "      <td>True</td>\n",
       "      <td>890</td>\n",
       "      <td>5</td>\n",
       "      <td>0</td>\n",
       "      <td>False</td>\n",
       "    </tr>\n",
       "  </tbody>\n",
       "</table>\n",
       "</div>"
      ],
      "text/plain": [
       "     changeset_id harmful  features_created  features_modified  \\\n",
       "53       47425928    True               195                  3   \n",
       "115      47376781    True                 0                142   \n",
       "126      47375211    True                 0                 79   \n",
       "131      47350486    True                 0                 97   \n",
       "144      47340155    True               890                  5   \n",
       "\n",
       "     features_deleted prediction  \n",
       "53                  3      False  \n",
       "115                 2      False  \n",
       "126                 2      False  \n",
       "131                 0      False  \n",
       "144                 0      False  "
      ]
     },
     "execution_count": 14,
     "metadata": {},
     "output_type": "execute_result"
    }
   ],
   "source": [
    "changesets[(changesets['harmful'] == True) & (changesets['prediction'] == False)].head()"
   ]
  }
 ],
 "metadata": {
  "anaconda-cloud": {},
  "kernelspec": {
   "display_name": "Python [conda root]",
   "language": "python",
   "name": "conda-root-py"
  },
  "language_info": {
   "codemirror_mode": {
    "name": "ipython",
    "version": 3
   },
   "file_extension": ".py",
   "mimetype": "text/x-python",
   "name": "python",
   "nbconvert_exporter": "python",
   "pygments_lexer": "ipython3",
   "version": "3.5.2"
  }
 },
 "nbformat": 4,
 "nbformat_minor": 2
}
